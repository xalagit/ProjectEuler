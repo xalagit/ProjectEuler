{
 "cells": [
  {
   "cell_type": "code",
   "execution_count": 1,
   "id": "6d6413e8",
   "metadata": {},
   "outputs": [
    {
     "name": "stderr",
     "output_type": "stream",
     "text": [
      "\u001b[32m\u001b[1m    Updating\u001b[22m\u001b[39m registry at `~/.julia/registries/General.toml`\n",
      "\u001b[32m\u001b[1m   Resolving\u001b[22m\u001b[39m package versions...\n",
      "\u001b[32m\u001b[1m  No Changes\u001b[22m\u001b[39m to `~/.julia/environments/v1.11/Project.toml`\n",
      "\u001b[32m\u001b[1m  No Changes\u001b[22m\u001b[39m to `~/.julia/environments/v1.11/Manifest.toml`\n"
     ]
    }
   ],
   "source": [
    "using Pkg\n",
    "Pkg.add(\"Primes\")  \n",
    "\n",
    "using Primes"
   ]
  },
  {
   "cell_type": "code",
   "execution_count": 3,
   "id": "b254fcbc",
   "metadata": {},
   "outputs": [
    {
     "data": {
      "text/plain": [
       "Comprobar_primo (generic function with 1 method)"
      ]
     },
     "metadata": {},
     "output_type": "display_data"
    }
   ],
   "source": [
    "function Comprobar_primo(n)\n",
    "    if isprime(n)\n",
    "        return true\n",
    "    else\n",
    "        return false\n",
    "    end\n",
    "end\n"
   ]
  },
  {
   "cell_type": "code",
   "execution_count": 19,
   "id": "4c842472",
   "metadata": {},
   "outputs": [
    {
     "data": {
      "text/plain": [
       "17"
      ]
     },
     "metadata": {},
     "output_type": "display_data"
    }
   ],
   "source": [
    "#m=13195\n",
    "m = BigInt(6008514751434)\n",
    "\n",
    "sqrt_m = floor(BigInt, sqrt(BigFloat(m)))\n",
    "\n",
    "l=Int64(sqrt_m)\n",
    "if iseven(l)\n",
    "   l-=1 \n",
    "end \n",
    "\n",
    "for n in l:-2:3\n",
    "    if Comprobar_primo(n) && m%n==0\n",
    "        return(n)\n",
    "        break\n",
    "    end\n",
    "end"
   ]
  }
 ],
 "metadata": {
  "kernelspec": {
   "display_name": "Julia 1.11.4",
   "language": "julia",
   "name": "julia-1.11"
  },
  "language_info": {
   "file_extension": ".jl",
   "mimetype": "application/julia",
   "name": "julia",
   "version": "1.11.4"
  }
 },
 "nbformat": 4,
 "nbformat_minor": 5
}
