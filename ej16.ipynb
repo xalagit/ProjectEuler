{
 "cells": [
  {
   "cell_type": "code",
   "execution_count": 2,
   "id": "055a4f06",
   "metadata": {},
   "outputs": [
    {
     "data": {
      "text/plain": [
       "32768"
      ]
     },
     "metadata": {},
     "output_type": "display_data"
    }
   ],
   "source": [
    "parse(Int, \"1000000000000000\"; base=2)\n"
   ]
  },
  {
   "cell_type": "code",
   "execution_count": 8,
   "id": "e1cc7b1d",
   "metadata": {},
   "outputs": [
    {
     "name": "stdout",
     "output_type": "stream",
     "text": [
      "1366\n"
     ]
    }
   ],
   "source": [
    "n = 1000  # Número de ceros\n",
    "binario = \"1\" * repeat(\"0\", n)\n",
    "\n",
    "resultado = parse(BigInt, binario; base=2)\n",
    "\n",
    "suma = sum(digit - '0' for digit in string(resultado))\n",
    "println(suma)\n",
    "\n"
   ]
  }
 ],
 "metadata": {
  "kernelspec": {
   "display_name": "Julia 1.11.4",
   "language": "julia",
   "name": "julia-1.11"
  },
  "language_info": {
   "file_extension": ".jl",
   "mimetype": "application/julia",
   "name": "julia",
   "version": "1.11.4"
  }
 },
 "nbformat": 4,
 "nbformat_minor": 5
}
