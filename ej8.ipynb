{
 "cells": [
  {
   "cell_type": "code",
   "execution_count": null,
   "id": "f67786cc",
   "metadata": {},
   "outputs": [],
   "source": [
    "num_str = \"\"\"\n",
    "73167176531330624919225119674426574742355349194934\n",
    "96983520312774506326239578318016984801869478851843\n",
    "85861560789112949495459501737958331952853208805511\n",
    "12540698747158523863050715693290963295227443043557\n",
    "66896648950445244523161731856403098711121722383113\n",
    "62229893423380308135336276614282806444486645238749\n",
    "30358907296290491560440772390713810515859307960866\n",
    "70172427121883998797908792274921901699720888093776\n",
    "65727333001053367881220235421809751254540594752243\n",
    "52584907711670556013604839586446706324415722155397\n",
    "53697817977846174064955149290862569321978468622482\n",
    "83972241375657056057490261407972968652414535100474\n",
    "82166370484403199890008895243450658541227588666881\n",
    "16427171479924442928230863465674813919123162824586\n",
    "17866458359124566529476545682848912883142607690042\n",
    "24219022671055626321111109370544217506941658960408\n",
    "07198403850962455444362981230987879927244284909188\n",
    "84580156166097919133875499200524063689912560717606\n",
    "05886116467109405077541002256983155200055935729725\n",
    "71636269561882670428252483600823257530420752963450\n",
    "\"\"\"\n",
    "\n",
    "# Eliminar espacios y saltos de línea\n",
    "num_clean = replace(num_str, r\"\\s+\" => \"\")\n",
    "\n",
    "# Convertir la cadena limpia a BigInt\n",
    "num = parse(BigInt, num_clean)\n",
    "\n",
    "println(num)\n",
    "\n",
    "\n",
    "cifras = reverse(digits(num))\n",
    "println(cifras)  \n",
    "println(length(cifras))\n"
   ]
  },
  {
   "cell_type": "code",
   "execution_count": null,
   "id": "cc391cd2",
   "metadata": {},
   "outputs": [],
   "source": [
    "function comparar_digitos(lista)\n",
    "    Ps=[]\n",
    "    \n",
    "    push!(Ps,1)\n",
    "    for i in 1:length(lista)-4\n",
    "        producto = lista[i]*lista[i+1]*lista[i+2]*lista[i+3]\n",
    "        push!(Ps,producto)\n",
    "    end\n",
    "    v = [3, 7, 2, 9, 5]\n",
    "    valor_maximo, posicion = findmax(Ps)\n",
    "    println(\"Valor máximo: \", valor_maximo)\n",
    "    println(\"Posición: \", posicion)\n",
    "    respuesta=[lista[posicion],lista[posicion+1],lista[posicion+2],lista[posicion+3]]\n",
    "    println(respuesta)\n",
    "\n",
    "end"
   ]
  },
  {
   "cell_type": "code",
   "execution_count": null,
   "id": "c9583deb",
   "metadata": {},
   "outputs": [],
   "source": [
    "comparar_digitos(cifras)"
   ]
  },
  {
   "cell_type": "code",
   "execution_count": null,
   "id": "571ad8dd",
   "metadata": {},
   "outputs": [],
   "source": [
    "function comparar_13digitos(lista)\n",
    "    Ps=[]\n",
    "    \n",
    "    push!(Ps,1)\n",
    "    for i in 1:length(lista)-13\n",
    "        producto = lista[i]*lista[i+1]*lista[i+2]*lista[i+3]*lista[i+4]*lista[i+5]*lista[i+6]*lista[i+7]*lista[i+8]*lista[i+9]*lista[i+10]*lista[i+11]*lista[i+12]\n",
    "        push!(Ps,producto)\n",
    "    end\n",
    "    v = [3, 7, 2, 9, 5]\n",
    "    valor_maximo, i = findmax(Ps)\n",
    "    println(\"Valor máximo: \", valor_maximo)\n",
    "    println(\"Posición: \", i)\n",
    "    respuesta=[lista[i],lista[i+1],lista[i+2],lista[i+3],lista[i+4],lista[i+5],lista[i+6],lista[i+7],lista[i+8],lista[i+9],lista[i+10],lista[i+11],lista[i+12]]\n",
    "    println(respuesta)\n",
    "\n",
    "end"
   ]
  },
  {
   "cell_type": "code",
   "execution_count": null,
   "id": "e6e048df",
   "metadata": {},
   "outputs": [],
   "source": [
    "comparar_13digitos(cifras)"
   ]
  },
  {
   "cell_type": "code",
   "execution_count": 23,
   "id": "0859b2e1",
   "metadata": {},
   "outputs": [
    {
     "name": "stdout",
     "output_type": "stream",
     "text": [
      "Valor máximo: 23514624000\n",
      "Posición: 198\n",
      "Secuencia de dígitos: [5, 5, 7, 6, 6, 8, 9, 6, 6, 4, 8, 9, 5]\n"
     ]
    }
   ],
   "source": [
    "num_str = \"\"\"\n",
    "73167176531330624919225119674426574742355349194934\n",
    "96983520312774506326239578318016984801869478851843\n",
    "85861560789112949495459501737958331952853208805511\n",
    "12540698747158523863050715693290963295227443043557\n",
    "66896648950445244523161731856403098711121722383113\n",
    "62229893423380308135336276614282806444486645238749\n",
    "30358907296290491560440772390713810515859307960866\n",
    "70172427121883998797908792274921901699720888093776\n",
    "65727333001053367881220235421809751254540594752243\n",
    "52584907711670556013604839586446706324415722155397\n",
    "53697817977846174064955149290862569321978468622482\n",
    "83972241375657056057490261407972968652414535100474\n",
    "82166370484403199890008895243450658541227588666881\n",
    "16427171479924442928230863465674813919123162824586\n",
    "17866458359124566529476545682848912883142607690042\n",
    "24219022671055626321111109370544217506941658960408\n",
    "07198403850962455444362981230987879927244284909188\n",
    "84580156166097919133875499200524063689912560717606\n",
    "05886116467109405077541002256983155200055935729725\n",
    "71636269561882670428252483600823257530420752963450\n",
    "\"\"\"\n",
    "\n",
    "# Eliminar espacios y saltos de línea\n",
    "num_clean = replace(num_str, r\"\\s+\" => \"\")\n",
    "\n",
    "# Convertir la cadena limpia a una lista de dígitos\n",
    "cifras = [parse(Int, c) for c in collect(num_clean)]\n",
    "\n",
    "function comparar_13Ndigitos(lista)\n",
    "    Ps = []\n",
    "    for i in 1:(length(lista) - 13)\n",
    "        producto = lista[i]*lista[i+1]*lista[i+2]*lista[i+3]*lista[i+4]*lista[i+5]*lista[i+6]*lista[i+7]*lista[i+8]*lista[i+9]*lista[i+10]*lista[i+11]*lista[i+12]\n",
    "        push!(Ps, producto)\n",
    "    end\n",
    "    valor_maximo, posicion = findmax(Ps)\n",
    "    println(\"Valor máximo: \", valor_maximo)\n",
    "    println(\"Posición: \", posicion)\n",
    "    respuesta = lista[posicion : posicion + 12]\n",
    "    println(\"Secuencia de dígitos: \", respuesta)\n",
    "end\n",
    "\n",
    "comparar_13Ndigitos(cifras)"
   ]
  }
 ],
 "metadata": {
  "kernelspec": {
   "display_name": "Julia 1.11.4",
   "language": "julia",
   "name": "julia-1.11"
  },
  "language_info": {
   "file_extension": ".jl",
   "mimetype": "application/julia",
   "name": "julia",
   "version": "1.11.4"
  }
 },
 "nbformat": 4,
 "nbformat_minor": 5
}
