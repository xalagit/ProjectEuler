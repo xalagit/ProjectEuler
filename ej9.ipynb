{
 "cells": [
  {
   "cell_type": "code",
   "execution_count": 3,
   "id": "a596c342",
   "metadata": {},
   "outputs": [],
   "source": [
    "p = 1000\n",
    "tripleta =Int64[]\n",
    "for c in 1:998\n",
    "    for b in 1:998\n",
    "        for a in 1:998\n",
    "            if p== a+b+c && a^2 + b^2 == c^2\n",
    "                push!(tripleta,a)\n",
    "                push!(tripleta,b)\n",
    "                push!(tripleta,c)\n",
    "            end\n",
    "        end\n",
    "    end\n",
    "end"
   ]
  },
  {
   "cell_type": "code",
   "execution_count": 10,
   "id": "6df73f87",
   "metadata": {},
   "outputs": [
    {
     "name": "stdout",
     "output_type": "stream",
     "text": [
      "[375, 200, 425, 200, 375, 425]\n",
      "1000\n",
      "1000\n"
     ]
    }
   ],
   "source": [
    "println(tripleta)\n",
    "println(sum(tripleta[1:3]))\n",
    "println(sum(tripleta[4:6]))"
   ]
  },
  {
   "cell_type": "code",
   "execution_count": 12,
   "id": "de67ba6d",
   "metadata": {},
   "outputs": [
    {
     "name": "stdout",
     "output_type": "stream",
     "text": [
      "31875000\n",
      "31875000\n"
     ]
    }
   ],
   "source": [
    "println(prod(tripleta[1:3]))\n",
    "println(prod(tripleta[4:6]))\n"
   ]
  }
 ],
 "metadata": {
  "kernelspec": {
   "display_name": "Julia 1.11.4",
   "language": "julia",
   "name": "julia-1.11"
  },
  "language_info": {
   "file_extension": ".jl",
   "mimetype": "application/julia",
   "name": "julia",
   "version": "1.11.4"
  }
 },
 "nbformat": 4,
 "nbformat_minor": 5
}
