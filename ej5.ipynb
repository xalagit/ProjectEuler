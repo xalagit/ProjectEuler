{
 "cells": [
  {
   "cell_type": "code",
   "execution_count": 1,
   "id": "42200c74",
   "metadata": {},
   "outputs": [
    {
     "name": "stderr",
     "output_type": "stream",
     "text": [
      "\u001b[32m\u001b[1m   Resolving\u001b[22m\u001b[39m package versions...\n",
      "\u001b[32m\u001b[1m  No Changes\u001b[22m\u001b[39m to `~/.julia/environments/v1.11/Project.toml`\n",
      "\u001b[32m\u001b[1m  No Changes\u001b[22m\u001b[39m to `~/.julia/environments/v1.11/Manifest.toml`\n"
     ]
    }
   ],
   "source": [
    "using Pkg\n",
    "Pkg.add(\"Primes\")  \n",
    "\n",
    "using Primes"
   ]
  },
  {
   "cell_type": "code",
   "execution_count": 2,
   "id": "d5052da1",
   "metadata": {},
   "outputs": [],
   "source": [
    "#=using Primes \n",
    "\n",
    "m = 10\n",
    "C = BigInt[]\n",
    "k = 1\n",
    "\n",
    "for i in 1:m \n",
    "   \n",
    "    k = i * k \n",
    "       \n",
    "end\n",
    "\n",
    "for c in k:-1:1\n",
    "    for i in 2:20\n",
    "        if c%i==0\n",
    "            push!(C,c)\n",
    "        end\n",
    "        \n",
    "    end \n",
    "    \n",
    "end\n",
    "\n",
    "println(k)\n",
    "println(C[end])\n",
    "=#"
   ]
  },
  {
   "cell_type": "code",
   "execution_count": 3,
   "id": "bcf2c533",
   "metadata": {},
   "outputs": [
    {
     "name": "stdout",
     "output_type": "stream",
     "text": [
      "6\n"
     ]
    }
   ],
   "source": [
    "m = 3\n",
    "k = factorial(BigInt(m))  # Calcula 3! con precisión arbitraria\n",
    "println(k)  # Imprime el resultado: 6\n"
   ]
  },
  {
   "cell_type": "code",
   "execution_count": 4,
   "id": "c9393cb0",
   "metadata": {},
   "outputs": [
    {
     "data": {
      "text/plain": [
       "juntar_primos (generic function with 1 method)"
      ]
     },
     "metadata": {},
     "output_type": "display_data"
    }
   ],
   "source": [
    "function juntar_primos(I)#la entrada es una lista\n",
    "    for i in 1:20\n",
    "        if isprime(i)\n",
    "            push!(I,i)\n",
    "        end\n",
    "    end\n",
    "end"
   ]
  },
  {
   "cell_type": "code",
   "execution_count": null,
   "id": "aed1918a",
   "metadata": {},
   "outputs": [
    {
     "data": {
      "text/plain": [
       "#11 (generic function with 1 method)"
      ]
     },
     "metadata": {},
     "output_type": "display_data"
    }
   ],
   "source": [
    "function (I)#la entrada es una lista que viene de juntar_primos\n",
    "    for p in I\n",
    "        if (p*p)%k\n",
    "            \n",
    "        end\n",
    "    end\n",
    "end"
   ]
  }
 ],
 "metadata": {
  "kernelspec": {
   "display_name": "Julia 1.11.4",
   "language": "julia",
   "name": "julia-1.11"
  },
  "language_info": {
   "file_extension": ".jl",
   "mimetype": "application/julia",
   "name": "julia",
   "version": "1.11.4"
  }
 },
 "nbformat": 4,
 "nbformat_minor": 5
}
