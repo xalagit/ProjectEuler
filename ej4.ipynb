{
 "cells": [
  {
   "cell_type": "code",
   "execution_count": 1,
   "id": "13f7adab",
   "metadata": {},
   "outputs": [
    {
     "data": {
      "text/plain": [
       "es_palindromo (generic function with 1 method)"
      ]
     },
     "metadata": {},
     "output_type": "display_data"
    }
   ],
   "source": [
    "#funcion para saber si un numero es polindromo\n",
    "\n",
    "function es_palindromo(n)\n",
    "    str = string(n)\n",
    "    return str == reverse(str)\n",
    "end\n"
   ]
  },
  {
   "cell_type": "code",
   "execution_count": 2,
   "id": "2f4caac7",
   "metadata": {},
   "outputs": [
    {
     "name": "stdout",
     "output_type": "stream",
     "text": [
      "El mayor palíndromo encontrado es: 906609\n"
     ]
    }
   ],
   "source": [
    "max_palindromo = 0\n",
    "\n",
    "for m in 100:999\n",
    "    for n in 100:999\n",
    "        producto = m * n\n",
    "        if es_palindromo(producto) && producto > max_palindromo\n",
    "            max_palindromo = producto\n",
    "        end\n",
    "    end\n",
    "end\n",
    "\n",
    "println(\"El mayor palíndromo encontrado es: \", max_palindromo)\n"
   ]
  }
 ],
 "metadata": {
  "kernelspec": {
   "display_name": "Julia 1.11.4",
   "language": "julia",
   "name": "julia-1.11"
  },
  "language_info": {
   "file_extension": ".jl",
   "mimetype": "application/julia",
   "name": "julia",
   "version": "1.11.4"
  }
 },
 "nbformat": 4,
 "nbformat_minor": 5
}
