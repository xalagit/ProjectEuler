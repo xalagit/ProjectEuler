{
 "cells": [
  {
   "cell_type": "code",
   "execution_count": 3,
   "id": "5fc46723",
   "metadata": {},
   "outputs": [
    {
     "data": {
      "text/plain": [
       "232792560"
      ]
     },
     "metadata": {},
     "output_type": "display_data"
    }
   ],
   "source": [
    "mcm_20=2*3*5*7*11*13*17*19*2^3*3^1"
   ]
  },
  {
   "cell_type": "code",
   "execution_count": null,
   "id": "bdb16bca",
   "metadata": {},
   "outputs": [
    {
     "data": {
      "text/plain": [
       "mcm (generic function with 1 method)"
      ]
     },
     "metadata": {},
     "output_type": "display_data"
    }
   ],
   "source": [
    "# Eficiencia: O(l⋅l!)\n",
    "function mcm(l)\n",
    "    n = l\n",
    "    while true\n",
    "        if all(n % k == 0 for k in 1:l)\n",
    "            return n\n",
    "        end\n",
    "        n += 1\n",
    "    end\n",
    "end\n",
    "\n"
   ]
  },
  {
   "cell_type": "code",
   "execution_count": 5,
   "id": "e5d30164",
   "metadata": {},
   "outputs": [
    {
     "data": {
      "text/plain": [
       "2520"
      ]
     },
     "metadata": {},
     "output_type": "display_data"
    }
   ],
   "source": [
    "mcm(10)"
   ]
  },
  {
   "cell_type": "code",
   "execution_count": 6,
   "id": "6979f59b",
   "metadata": {},
   "outputs": [
    {
     "data": {
      "text/plain": [
       "232792560"
      ]
     },
     "metadata": {},
     "output_type": "display_data"
    }
   ],
   "source": [
    "mcm(20)"
   ]
  },
  {
   "cell_type": "markdown",
   "id": "e9d89810",
   "metadata": {},
   "source": [
    "## Ahora sacando factores"
   ]
  },
  {
   "cell_type": "code",
   "execution_count": null,
   "id": "f1b25481",
   "metadata": {},
   "outputs": [
    {
     "name": "stdout",
     "output_type": "stream",
     "text": [
      "Set([5, 16, 8, 17, 19, 11, 9, 3, 7, 13, 4, 2])\n"
     ]
    }
   ],
   "source": [
    "# Este no me sirve\n",
    "using Primes\n",
    "\n",
    "function factores_del_1_al(l)\n",
    "    fact_primos = filter(isprime, collect(1:l))   # Obtener primos hasta l\n",
    "    set_de_factores = Set(fact_primos)             # Conjunto con los primos iniciales\n",
    "\n",
    "    for n in 1:l\n",
    "        for p in fact_primos\n",
    "            i = p\n",
    "            while n % i == 0\n",
    "                push!(set_de_factores, i)  # Agregar al conjunto\n",
    "                i *= p  # Multiplicar por el primo para las potencias\n",
    "            end\n",
    "        end\n",
    "    end\n",
    "\n",
    "    return set_de_factores\n",
    "end\n",
    "\n",
    "println(factores_del_1_al(20))\n"
   ]
  },
  {
   "cell_type": "code",
   "execution_count": null,
   "id": "02887234",
   "metadata": {},
   "outputs": [
    {
     "name": "stdout",
     "output_type": "stream",
     "text": [
      "(Set(Any[4, 16, 9, 8]), [2, 3, 5, 7, 11, 13, 17, 19])\n"
     ]
    }
   ],
   "source": [
    "# Este no me sirve\n",
    "\n",
    "using Primes\n",
    "\n",
    "function factores_del_1_al(l)\n",
    "    # Obtener los primos hasta l\n",
    "    fact_primos = filter(isprime, collect(1:l))\n",
    "    \n",
    "    # Crear el conjunto con las potencias máximas de los primos\n",
    "    set_de_factores = Set()\n",
    "    \n",
    "    # Iterar sobre los números del 1 al l\n",
    "    for n in 1:l\n",
    "        for p in fact_primos\n",
    "            i = p\n",
    "            max_potencia = p  # Inicializar la potencia máxima con el propio primo\n",
    "            while n % i == 0\n",
    "                max_potencia = i  # Guardar la potencia máxima\n",
    "                i *= p  # Calcular la siguiente potencia de p\n",
    "            end\n",
    "            # Si encontramos alguna potencia mayor al primo, la agregamos al conjunto\n",
    "            if max_potencia > p\n",
    "                push!(set_de_factores, max_potencia)\n",
    "            end\n",
    "        end\n",
    "    end\n",
    "    \n",
    "    return set_de_factores,fact_primos\n",
    "end\n",
    "\n",
    "println(factores_del_1_al(20))\n",
    "\n"
   ]
  },
  {
   "cell_type": "code",
   "execution_count": null,
   "id": "9f88ffa3",
   "metadata": {},
   "outputs": [],
   "source": [
    "# Versión optimizada, Eficiencia:O(l^2/log(l​))\n",
    "using Primes\n",
    "\n",
    "function factores_del_1_al(l)\n",
    "    # Calcular todos los primos hasta l una sola vez\n",
    "    primos_hasta_l = primes(1, l)\n",
    "    diccionario_factores = Dict{Int, Int}()\n",
    "\n",
    "    for n in 1:l\n",
    "        for p in primos_hasta_l\n",
    "            if p > n\n",
    "                break  # Ya no hay más primos que puedan dividir a n\n",
    "            end\n",
    "            if n % p == 0\n",
    "                # Contar el exponente de p en la factorización de n\n",
    "                exponente = 0\n",
    "                m = n\n",
    "                while m % p == 0\n",
    "                    exponente += 1\n",
    "                    m ÷= p\n",
    "                end\n",
    "                # Guardar el máximo exponente encontrado\n",
    "                diccionario_factores[p] = max(get(diccionario_factores, p, 0), exponente)\n",
    "            end\n",
    "        end\n",
    "    end\n",
    "\n",
    "    return diccionario_factores\n",
    "end\n",
    "\n",
    "function producto_de_factores(diccionario_factores)\n",
    "    producto = 1\n",
    "    for (primo, exponente) in diccionario_factores\n",
    "        producto *= primo^exponente\n",
    "    end\n",
    "    return producto\n",
    "end\n",
    "\n",
    "# Ejemplo de uso\n",
    "diccionario = factores_del_1_al(20)\n",
    "println(\"Diccionario de factores: \", diccionario)\n",
    "println(\"Producto total: \", producto_de_factores(diccionario))\n"
   ]
  },
  {
   "cell_type": "code",
   "execution_count": 32,
   "id": "ace827c6",
   "metadata": {},
   "outputs": [
    {
     "name": "stdout",
     "output_type": "stream",
     "text": [
      "232792560\n"
     ]
    }
   ],
   "source": [
    "# El más eficiente que internamente usa el gcd de Euclides: O(l⋅logn)\n",
    "\n",
    "function mcm_eficiente(l)\n",
    "    return reduce((a, b) -> lcm(a, b), 1:l)\n",
    "end\n",
    "println(mcm_eficiente(20))"
   ]
  }
 ],
 "metadata": {
  "kernelspec": {
   "display_name": "Julia 1.11.4",
   "language": "julia",
   "name": "julia-1.11"
  },
  "language_info": {
   "file_extension": ".jl",
   "mimetype": "application/julia",
   "name": "julia",
   "version": "1.11.4"
  }
 },
 "nbformat": 4,
 "nbformat_minor": 5
}
