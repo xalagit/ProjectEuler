{
 "cells": [
  {
   "cell_type": "markdown",
   "id": "68503931",
   "metadata": {},
   "source": [
    "## Ej 1\n",
    "\n"
   ]
  },
  {
   "cell_type": "code",
   "execution_count": 1,
   "id": "b79eb5df",
   "metadata": {},
   "outputs": [
    {
     "data": {
      "text/plain": [
       "233168"
      ]
     },
     "metadata": {},
     "output_type": "display_data"
    }
   ],
   "source": [
    "v=Int[]\n",
    "for n in 1:999\n",
    "    if n%3==0 || n%5==0\n",
    "        push!(v,n)\n",
    "    end\n",
    "end\n",
    "sum(v)"
   ]
  }
 ],
 "metadata": {
  "kernelspec": {
   "display_name": "Julia 1.11.4",
   "language": "julia",
   "name": "julia-1.11"
  },
  "language_info": {
   "file_extension": ".jl",
   "mimetype": "application/julia",
   "name": "julia",
   "version": "1.11.4"
  }
 },
 "nbformat": 4,
 "nbformat_minor": 5
}
