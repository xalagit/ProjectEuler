{
 "cells": [
  {
   "cell_type": "code",
   "execution_count": null,
   "id": "f3598d61",
   "metadata": {},
   "outputs": [
    {
     "data": {
      "text/plain": [
       "primer_numero_tiangular_con_cantidad_de_divisores (generic function with 1 method)"
      ]
     },
     "metadata": {},
     "output_type": "display_data"
    }
   ],
   "source": [
    "\n",
    "\n",
    "function primer_numero_tiangular_con_cantidad_de_divisores(limite_de_divisores)\n",
    "\n",
    "      \n",
    "        #generando numeros triangulares\n",
    "        n=1\n",
    "        while true\n",
    "            numero_triangular=n(n+1)/2\n",
    "            if catidad_de_divisores(numero_triangular)<limite_de_divisores\n",
    "                return numero_triangular\n",
    "                break\n",
    "            else\n",
    "            n+=1\n",
    "            end        \n",
    "        end\n",
    "end\n",
    "\n",
    "function catidad_de_divisores(num)\n",
    "    \n",
    "end"
   ]
  }
 ],
 "metadata": {
  "kernelspec": {
   "display_name": "Julia 1.11.4",
   "language": "julia",
   "name": "julia-1.11"
  },
  "language_info": {
   "file_extension": ".jl",
   "mimetype": "application/julia",
   "name": "julia",
   "version": "1.11.4"
  }
 },
 "nbformat": 4,
 "nbformat_minor": 5
}
