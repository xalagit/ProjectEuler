{
 "cells": [
  {
   "cell_type": "code",
   "execution_count": null,
   "id": "45cd0a9a",
   "metadata": {},
   "outputs": [
    {
     "data": {
      "text/plain": [
       "28"
      ]
     },
     "metadata": {},
     "output_type": "display_data"
    }
   ],
   "source": [
    "#dio!\n",
    "function primer_numero_tiangular_con_cantidad_de_divisores(limite_de_divisores)\n",
    "    n = 1\n",
    "    while true\n",
    "        numero_triangular = n * (n + 1) ÷ 2  \n",
    "        if catidad_de_divisores(numero_triangular) >= limite_de_divisores\n",
    "            return numero_triangular\n",
    "        else\n",
    "            n += 1\n",
    "        end        \n",
    "    end\n",
    "end\n",
    "\n",
    "function catidad_de_divisores(numero)\n",
    "    divisores = 0\n",
    "    for i in 1:numero\n",
    "        if numero % i == 0\n",
    "            divisores += 1\n",
    "        end\n",
    "    end\n",
    "    return divisores\n",
    "end\n",
    "\n",
    "# Llamada de prueba\n",
    "primer_numero_tiangular_con_cantidad_de_divisores(5)\n"
   ]
  },
  {
   "cell_type": "code",
   "execution_count": 11,
   "id": "c4b26dd3",
   "metadata": {},
   "outputs": [
    {
     "data": {
      "text/plain": [
       "76576500"
      ]
     },
     "metadata": {},
     "output_type": "display_data"
    }
   ],
   "source": [
    "# Función para contar divisores de un número\n",
    "function cantidad_de_divisores(numero)\n",
    "    divisores = 0\n",
    "    for i in 1:floor(Int, sqrt(numero))\n",
    "        if numero % i == 0\n",
    "            divisores += 2  # cuenta i y numero/i\n",
    "        end\n",
    "    end\n",
    "    if isqrt(numero)^2 == numero  # si es cuadrado perfecto, se contó un divisor dos veces\n",
    "        divisores -= 1\n",
    "    end\n",
    "    return divisores\n",
    "end\n",
    "\n",
    "# Función para encontrar el primer número triangular con al menos X divisores\n",
    "function primer_numero_triangular_con_cantidad_de_divisores(limite_de_divisores)\n",
    "    n = 1\n",
    "    while true\n",
    "        numero_triangular = n * (n + 1) ÷ 2\n",
    "        if cantidad_de_divisores(numero_triangular) >= limite_de_divisores\n",
    "            return numero_triangular\n",
    "        end\n",
    "        n += 1\n",
    "    end\n",
    "end\n",
    "\n",
    "# Ejemplo:\n",
    "primer_numero_triangular_con_cantidad_de_divisores(500)\n"
   ]
  }
 ],
 "metadata": {
  "kernelspec": {
   "display_name": "Julia 1.11.4",
   "language": "julia",
   "name": "julia-1.11"
  },
  "language_info": {
   "file_extension": ".jl",
   "mimetype": "application/julia",
   "name": "julia",
   "version": "1.11.4"
  }
 },
 "nbformat": 4,
 "nbformat_minor": 5
}
