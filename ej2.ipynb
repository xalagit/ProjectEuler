{
 "cells": [
  {
   "cell_type": "code",
   "execution_count": 9,
   "id": "8c086a8b",
   "metadata": {},
   "outputs": [
    {
     "name": "stdout",
     "output_type": "stream",
     "text": [
      "5702887\n",
      "33\n",
      "14930350\n"
     ]
    },
    {
     "data": {
      "text/plain": [
       "4613732"
      ]
     },
     "metadata": {},
     "output_type": "display_data"
    }
   ],
   "source": [
    "F=[1,2]\n",
    "r=0\n",
    "n=0\n",
    "while r< 4000000\n",
    "    n+=1\n",
    "    r=F[n]+F[n+1]\n",
    "    push!(F,r)\n",
    "end\n",
    "#println(F)\n",
    "println(F[end])\n",
    "println(length(F))\n",
    "println(sum(F))\n",
    "\n",
    "Q=Int[]\n",
    "for f in F\n",
    "    if f%2==0\n",
    "        push!(Q,f)\n",
    "    end\n",
    "end\n",
    "sum(Q)"
   ]
  }
 ],
 "metadata": {
  "kernelspec": {
   "display_name": "Julia 1.11.4",
   "language": "julia",
   "name": "julia-1.11"
  },
  "language_info": {
   "file_extension": ".jl",
   "mimetype": "application/julia",
   "name": "julia",
   "version": "1.11.4"
  }
 },
 "nbformat": 4,
 "nbformat_minor": 5
}
