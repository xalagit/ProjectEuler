{
 "cells": [
  {
   "cell_type": "code",
   "execution_count": null,
   "id": "d5845206",
   "metadata": {},
   "outputs": [],
   "source": [
    "using Pkg\n",
    "Pkg.add(\"Primes\")\n"
   ]
  },
  {
   "cell_type": "code",
   "execution_count": null,
   "id": "9abc4c63",
   "metadata": {},
   "outputs": [],
   "source": [
    "P = BigInt[]\n",
    "push!(P, 2)\n",
    "\n",
    "#m = BigInt(600851475143)\n",
    "m=10\n",
    "\n",
    "l = floor(BigInt, sqrt(BigFloat(m)))  # más preciso aún si querés mayor exactitud\n",
    "\n",
    "\n",
    "for n in 2:l\n",
    "    if all(n % i != 0 for i in P)\n",
    "        push!(P, n)\n",
    "    end\n",
    "end\n",
    "\n",
    "println(P[end])  \n",
    "                                                                                                                                        "
   ]
  },
  {
   "cell_type": "code",
   "execution_count": null,
   "id": "7efc3c29",
   "metadata": {},
   "outputs": [],
   "source": [
    "P = BigInt[]\n",
    "push!(P, 2)\n",
    "\n",
    "#m = BigInt(600851475143)\n",
    "m=10\n",
    "k=sqrt(BigFloat(m))\n",
    "I=BigInt[] #lista de factores\n",
    "\n",
    "  # más preciso aún si querés mayor exactitud\n",
    "\n",
    "while k!=1\n",
    "    \n",
    "    l = floor(BigInt,k)\n",
    "        if all(n % i != 0 for i in P)\n",
    "        push!(P, n)\n",
    "        k=k/n\n",
    "        \n",
    "\n",
    "        end\n",
    "     # n in 2:l\n",
    "        \n",
    "    \n",
    "end\n",
    "\n",
    "println(P[end]) "
   ]
  },
  {
   "cell_type": "code",
   "execution_count": null,
   "id": "e7c7403c",
   "metadata": {},
   "outputs": [],
   "source": [
    "m = 10\n",
    "l = floor(BigInt, sqrt(BigFloat(m))) \n",
    "\n",
    "while l > 0 && m % l != 0\n",
    "    l -= 1\n",
    "end\n",
    "\n",
    "println(l)\n"
   ]
  },
  {
   "cell_type": "code",
   "execution_count": null,
   "id": "bd516bfd",
   "metadata": {},
   "outputs": [],
   "source": [
    "m = 10\n",
    "l = floor(BigInt, sqrt(BigFloat(m)))\n",
    "\n",
    "while l > 0\n",
    "    if m % l == 0\n",
    "        println(m ÷ l)  # <- esto es el complemento del divisor\n",
    "        break\n",
    "    end\n",
    "    l -= 1\n",
    "end\n"
   ]
  },
  {
   "cell_type": "code",
   "execution_count": 15,
   "id": "72e629c6",
   "metadata": {},
   "outputs": [
    {
     "name": "stdout",
     "output_type": "stream",
     "text": [
      "455\n"
     ]
    },
    {
     "name": "stderr",
     "output_type": "stream",
     "text": [
      "\u001b[32m\u001b[1m   Resolving\u001b[22m\u001b[39m package versions...\n",
      "\u001b[32m\u001b[1m  No Changes\u001b[22m\u001b[39m to `~/.julia/environments/v1.11/Project.toml`\n",
      "\u001b[32m\u001b[1m  No Changes\u001b[22m\u001b[39m to `~/.julia/environments/v1.11/Manifest.toml`\n"
     ]
    }
   ],
   "source": [
    "using Pkg\n",
    "Pkg.add(\"Primes\")  # Ejecutar solo una vez\n",
    "\n",
    "using Primes\n",
    "\n",
    "#m = 10\n",
    "m=13195\n",
    "#m = BigInt(600851475143)\n",
    "sqrt_m = floor(BigInt, sqrt(BigFloat(m)))\n",
    "limite = Int(sqrt_m)  # <- Conversión necesaria aquí\n",
    "primos = primes(1, limite)  # Lista de primos ≤ √m\n",
    "\n",
    "# Recorremos los primos en orden descendente\n",
    "for p in reverse(primos)\n",
    "    if m % p == 0\n",
    "        println(m ÷ p)\n",
    "        break\n",
    "    end\n",
    "end\n"
   ]
  }
 ],
 "metadata": {
  "kernelspec": {
   "display_name": "Julia 1.11.4",
   "language": "julia",
   "name": "julia-1.11"
  },
  "language_info": {
   "file_extension": ".jl",
   "mimetype": "application/julia",
   "name": "julia",
   "version": "1.11.4"
  }
 },
 "nbformat": 4,
 "nbformat_minor": 5
}
