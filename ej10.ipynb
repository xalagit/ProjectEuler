{
 "cells": [
  {
   "cell_type": "code",
   "execution_count": null,
   "id": "f040fbe8",
   "metadata": {},
   "outputs": [
    {
     "data": {
      "text/plain": [
       "142913828922"
      ]
     },
     "metadata": {},
     "output_type": "display_data"
    }
   ],
   "source": [
    "using Primes\n",
    "\n",
    "\n",
    "limite = 2000000\n",
    "primos = Int64[]  \n",
    "push!(primos, 2)\n",
    "\n",
    "for p in 3:2:limite\n",
    "    if isprime(p)\n",
    "        push!(primos, p)\n",
    "    end\n",
    "end\n",
    "\n",
    "sum(primos)\n"
   ]
  }
 ],
 "metadata": {
  "kernelspec": {
   "display_name": "Julia 1.11.4",
   "language": "julia",
   "name": "julia-1.11"
  },
  "language_info": {
   "file_extension": ".jl",
   "mimetype": "application/julia",
   "name": "julia",
   "version": "1.11.4"
  }
 },
 "nbformat": 4,
 "nbformat_minor": 5
}
